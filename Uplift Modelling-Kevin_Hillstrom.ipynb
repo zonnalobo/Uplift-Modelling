{
 "cells": [
  {
   "cell_type": "markdown",
   "metadata": {},
   "source": [
    "# Loading Library and Dataset"
   ]
  },
  {
   "cell_type": "code",
   "execution_count": 1,
   "metadata": {},
   "outputs": [
    {
     "name": "stdout",
     "output_type": "stream",
     "text": [
      "Populating the interactive namespace from numpy and matplotlib\n"
     ]
    }
   ],
   "source": [
    "import numpy as np\n",
    "import pandas as pd\n",
    "import warnings\n",
    "warnings.filterwarnings('ignore')\n",
    "import seaborn\n",
    "%matplotlib inline\n",
    "%pylab inline"
   ]
  },
  {
   "cell_type": "code",
   "execution_count": 2,
   "metadata": {},
   "outputs": [],
   "source": [
    "thefile = \"Kevin_Hillstrom.csv\"\n",
    "df = pd.read_csv(thefile)"
   ]
  },
  {
   "cell_type": "markdown",
   "metadata": {},
   "source": [
    "# Prepocessing Data"
   ]
  },
  {
   "cell_type": "code",
   "execution_count": 3,
   "metadata": {},
   "outputs": [
    {
     "data": {
      "text/plain": [
       "(64000, 12)"
      ]
     },
     "execution_count": 3,
     "metadata": {},
     "output_type": "execute_result"
    }
   ],
   "source": [
    "df.shape"
   ]
  },
  {
   "cell_type": "code",
   "execution_count": 4,
   "metadata": {},
   "outputs": [
    {
     "data": {
      "text/html": [
       "<div>\n",
       "<style scoped>\n",
       "    .dataframe tbody tr th:only-of-type {\n",
       "        vertical-align: middle;\n",
       "    }\n",
       "\n",
       "    .dataframe tbody tr th {\n",
       "        vertical-align: top;\n",
       "    }\n",
       "\n",
       "    .dataframe thead th {\n",
       "        text-align: right;\n",
       "    }\n",
       "</style>\n",
       "<table border=\"1\" class=\"dataframe\">\n",
       "  <thead>\n",
       "    <tr style=\"text-align: right;\">\n",
       "      <th></th>\n",
       "      <th>recency</th>\n",
       "      <th>history_segment</th>\n",
       "      <th>history</th>\n",
       "      <th>mens</th>\n",
       "      <th>womens</th>\n",
       "      <th>zip_code</th>\n",
       "      <th>newbie</th>\n",
       "      <th>channel</th>\n",
       "      <th>segment</th>\n",
       "      <th>visit</th>\n",
       "      <th>conversion</th>\n",
       "      <th>spend</th>\n",
       "    </tr>\n",
       "  </thead>\n",
       "  <tbody>\n",
       "    <tr>\n",
       "      <th>0</th>\n",
       "      <td>10</td>\n",
       "      <td>2) $100 - $200</td>\n",
       "      <td>142.44</td>\n",
       "      <td>1</td>\n",
       "      <td>0</td>\n",
       "      <td>Surburban</td>\n",
       "      <td>0</td>\n",
       "      <td>Phone</td>\n",
       "      <td>Womens E-Mail</td>\n",
       "      <td>0</td>\n",
       "      <td>0</td>\n",
       "      <td>0.0</td>\n",
       "    </tr>\n",
       "    <tr>\n",
       "      <th>1</th>\n",
       "      <td>6</td>\n",
       "      <td>3) $200 - $350</td>\n",
       "      <td>329.08</td>\n",
       "      <td>1</td>\n",
       "      <td>1</td>\n",
       "      <td>Rural</td>\n",
       "      <td>1</td>\n",
       "      <td>Web</td>\n",
       "      <td>No E-Mail</td>\n",
       "      <td>0</td>\n",
       "      <td>0</td>\n",
       "      <td>0.0</td>\n",
       "    </tr>\n",
       "    <tr>\n",
       "      <th>2</th>\n",
       "      <td>7</td>\n",
       "      <td>2) $100 - $200</td>\n",
       "      <td>180.65</td>\n",
       "      <td>0</td>\n",
       "      <td>1</td>\n",
       "      <td>Surburban</td>\n",
       "      <td>1</td>\n",
       "      <td>Web</td>\n",
       "      <td>Womens E-Mail</td>\n",
       "      <td>0</td>\n",
       "      <td>0</td>\n",
       "      <td>0.0</td>\n",
       "    </tr>\n",
       "    <tr>\n",
       "      <th>3</th>\n",
       "      <td>9</td>\n",
       "      <td>5) $500 - $750</td>\n",
       "      <td>675.83</td>\n",
       "      <td>1</td>\n",
       "      <td>0</td>\n",
       "      <td>Rural</td>\n",
       "      <td>1</td>\n",
       "      <td>Web</td>\n",
       "      <td>Mens E-Mail</td>\n",
       "      <td>0</td>\n",
       "      <td>0</td>\n",
       "      <td>0.0</td>\n",
       "    </tr>\n",
       "    <tr>\n",
       "      <th>4</th>\n",
       "      <td>2</td>\n",
       "      <td>1) $0 - $100</td>\n",
       "      <td>45.34</td>\n",
       "      <td>1</td>\n",
       "      <td>0</td>\n",
       "      <td>Urban</td>\n",
       "      <td>0</td>\n",
       "      <td>Web</td>\n",
       "      <td>Womens E-Mail</td>\n",
       "      <td>0</td>\n",
       "      <td>0</td>\n",
       "      <td>0.0</td>\n",
       "    </tr>\n",
       "  </tbody>\n",
       "</table>\n",
       "</div>"
      ],
      "text/plain": [
       "   recency history_segment  history  mens  womens   zip_code  newbie channel  \\\n",
       "0       10  2) $100 - $200   142.44     1       0  Surburban       0   Phone   \n",
       "1        6  3) $200 - $350   329.08     1       1      Rural       1     Web   \n",
       "2        7  2) $100 - $200   180.65     0       1  Surburban       1     Web   \n",
       "3        9  5) $500 - $750   675.83     1       0      Rural       1     Web   \n",
       "4        2    1) $0 - $100    45.34     1       0      Urban       0     Web   \n",
       "\n",
       "         segment  visit  conversion  spend  \n",
       "0  Womens E-Mail      0           0    0.0  \n",
       "1      No E-Mail      0           0    0.0  \n",
       "2  Womens E-Mail      0           0    0.0  \n",
       "3    Mens E-Mail      0           0    0.0  \n",
       "4  Womens E-Mail      0           0    0.0  "
      ]
     },
     "execution_count": 4,
     "metadata": {},
     "output_type": "execute_result"
    }
   ],
   "source": [
    "df.head()"
   ]
  },
  {
   "cell_type": "code",
   "execution_count": 5,
   "metadata": {},
   "outputs": [
    {
     "data": {
      "text/plain": [
       "0    63422\n",
       "1      578\n",
       "Name: conversion, dtype: int64"
      ]
     },
     "execution_count": 5,
     "metadata": {},
     "output_type": "execute_result"
    }
   ],
   "source": [
    "df.conversion.value_counts()"
   ]
  },
  {
   "cell_type": "code",
   "execution_count": 6,
   "metadata": {},
   "outputs": [
    {
     "data": {
      "text/plain": [
       "Womens E-Mail    21387\n",
       "Mens E-Mail      21307\n",
       "No E-Mail        21306\n",
       "Name: segment, dtype: int64"
      ]
     },
     "execution_count": 6,
     "metadata": {},
     "output_type": "execute_result"
    }
   ],
   "source": [
    "df.segment.value_counts()"
   ]
  },
  {
   "cell_type": "code",
   "execution_count": 7,
   "metadata": {},
   "outputs": [
    {
     "data": {
      "text/plain": [
       "Web             28217\n",
       "Phone           28021\n",
       "Multichannel     7762\n",
       "Name: channel, dtype: int64"
      ]
     },
     "execution_count": 7,
     "metadata": {},
     "output_type": "execute_result"
    }
   ],
   "source": [
    "df.channel.value_counts()"
   ]
  },
  {
   "cell_type": "code",
   "execution_count": 8,
   "metadata": {},
   "outputs": [
    {
     "data": {
      "text/plain": [
       "Surburban    28776\n",
       "Urban        25661\n",
       "Rural         9563\n",
       "Name: zip_code, dtype: int64"
      ]
     },
     "execution_count": 8,
     "metadata": {},
     "output_type": "execute_result"
    }
   ],
   "source": [
    "df.zip_code.value_counts()"
   ]
  },
  {
   "cell_type": "code",
   "execution_count": 9,
   "metadata": {},
   "outputs": [],
   "source": [
    "df.history_segment = df.history_segment.str[0]\n",
    "df = pd.concat([df,pd.get_dummies(df.history_segment, prefix='history_segment')],axis=1)"
   ]
  },
  {
   "cell_type": "code",
   "execution_count": 10,
   "metadata": {},
   "outputs": [
    {
     "name": "stdout",
     "output_type": "stream",
     "text": [
      "done zip_code\n",
      "done channel\n"
     ]
    }
   ],
   "source": [
    "# dummify\n",
    "\n",
    "feat = ['zip_code','channel']\n",
    "features = []\n",
    "for f in feat : \n",
    "    dummies = pd.get_dummies(df[f]).rename(columns=lambda x: f + \"_\" + str(x))\n",
    "    features = features + list(dummies.columns)\n",
    "    df = pd.concat([df, dummies], axis=1)\n",
    "    df = df.drop([f], axis=1)\n",
    "    print(\"done\", f)"
   ]
  },
  {
   "cell_type": "code",
   "execution_count": 11,
   "metadata": {},
   "outputs": [],
   "source": [
    "df['istarget'] = df['segment'].map(lambda x : 0 if x=='No E-Mail' else 1)"
   ]
  },
  {
   "cell_type": "code",
   "execution_count": 12,
   "metadata": {},
   "outputs": [
    {
     "data": {
      "text/html": [
       "<div>\n",
       "<style scoped>\n",
       "    .dataframe tbody tr th:only-of-type {\n",
       "        vertical-align: middle;\n",
       "    }\n",
       "\n",
       "    .dataframe tbody tr th {\n",
       "        vertical-align: top;\n",
       "    }\n",
       "\n",
       "    .dataframe thead th {\n",
       "        text-align: right;\n",
       "    }\n",
       "</style>\n",
       "<table border=\"1\" class=\"dataframe\">\n",
       "  <thead>\n",
       "    <tr style=\"text-align: right;\">\n",
       "      <th></th>\n",
       "      <th>recency</th>\n",
       "      <th>mens</th>\n",
       "      <th>womens</th>\n",
       "      <th>newbie</th>\n",
       "      <th>visit</th>\n",
       "      <th>conversion</th>\n",
       "      <th>spend</th>\n",
       "      <th>history_segment_1</th>\n",
       "      <th>history_segment_2</th>\n",
       "      <th>history_segment_3</th>\n",
       "      <th>...</th>\n",
       "      <th>history_segment_5</th>\n",
       "      <th>history_segment_6</th>\n",
       "      <th>history_segment_7</th>\n",
       "      <th>zip_code_Rural</th>\n",
       "      <th>zip_code_Surburban</th>\n",
       "      <th>zip_code_Urban</th>\n",
       "      <th>channel_Multichannel</th>\n",
       "      <th>channel_Phone</th>\n",
       "      <th>channel_Web</th>\n",
       "      <th>istarget</th>\n",
       "    </tr>\n",
       "  </thead>\n",
       "  <tbody>\n",
       "    <tr>\n",
       "      <th>0</th>\n",
       "      <td>10</td>\n",
       "      <td>1</td>\n",
       "      <td>0</td>\n",
       "      <td>0</td>\n",
       "      <td>0</td>\n",
       "      <td>0</td>\n",
       "      <td>0.0</td>\n",
       "      <td>0</td>\n",
       "      <td>1</td>\n",
       "      <td>0</td>\n",
       "      <td>...</td>\n",
       "      <td>0</td>\n",
       "      <td>0</td>\n",
       "      <td>0</td>\n",
       "      <td>0</td>\n",
       "      <td>1</td>\n",
       "      <td>0</td>\n",
       "      <td>0</td>\n",
       "      <td>1</td>\n",
       "      <td>0</td>\n",
       "      <td>1</td>\n",
       "    </tr>\n",
       "    <tr>\n",
       "      <th>1</th>\n",
       "      <td>6</td>\n",
       "      <td>1</td>\n",
       "      <td>1</td>\n",
       "      <td>1</td>\n",
       "      <td>0</td>\n",
       "      <td>0</td>\n",
       "      <td>0.0</td>\n",
       "      <td>0</td>\n",
       "      <td>0</td>\n",
       "      <td>1</td>\n",
       "      <td>...</td>\n",
       "      <td>0</td>\n",
       "      <td>0</td>\n",
       "      <td>0</td>\n",
       "      <td>1</td>\n",
       "      <td>0</td>\n",
       "      <td>0</td>\n",
       "      <td>0</td>\n",
       "      <td>0</td>\n",
       "      <td>1</td>\n",
       "      <td>0</td>\n",
       "    </tr>\n",
       "    <tr>\n",
       "      <th>2</th>\n",
       "      <td>7</td>\n",
       "      <td>0</td>\n",
       "      <td>1</td>\n",
       "      <td>1</td>\n",
       "      <td>0</td>\n",
       "      <td>0</td>\n",
       "      <td>0.0</td>\n",
       "      <td>0</td>\n",
       "      <td>1</td>\n",
       "      <td>0</td>\n",
       "      <td>...</td>\n",
       "      <td>0</td>\n",
       "      <td>0</td>\n",
       "      <td>0</td>\n",
       "      <td>0</td>\n",
       "      <td>1</td>\n",
       "      <td>0</td>\n",
       "      <td>0</td>\n",
       "      <td>0</td>\n",
       "      <td>1</td>\n",
       "      <td>1</td>\n",
       "    </tr>\n",
       "    <tr>\n",
       "      <th>3</th>\n",
       "      <td>9</td>\n",
       "      <td>1</td>\n",
       "      <td>0</td>\n",
       "      <td>1</td>\n",
       "      <td>0</td>\n",
       "      <td>0</td>\n",
       "      <td>0.0</td>\n",
       "      <td>0</td>\n",
       "      <td>0</td>\n",
       "      <td>0</td>\n",
       "      <td>...</td>\n",
       "      <td>1</td>\n",
       "      <td>0</td>\n",
       "      <td>0</td>\n",
       "      <td>1</td>\n",
       "      <td>0</td>\n",
       "      <td>0</td>\n",
       "      <td>0</td>\n",
       "      <td>0</td>\n",
       "      <td>1</td>\n",
       "      <td>1</td>\n",
       "    </tr>\n",
       "    <tr>\n",
       "      <th>4</th>\n",
       "      <td>2</td>\n",
       "      <td>1</td>\n",
       "      <td>0</td>\n",
       "      <td>0</td>\n",
       "      <td>0</td>\n",
       "      <td>0</td>\n",
       "      <td>0.0</td>\n",
       "      <td>1</td>\n",
       "      <td>0</td>\n",
       "      <td>0</td>\n",
       "      <td>...</td>\n",
       "      <td>0</td>\n",
       "      <td>0</td>\n",
       "      <td>0</td>\n",
       "      <td>0</td>\n",
       "      <td>0</td>\n",
       "      <td>1</td>\n",
       "      <td>0</td>\n",
       "      <td>0</td>\n",
       "      <td>1</td>\n",
       "      <td>1</td>\n",
       "    </tr>\n",
       "  </tbody>\n",
       "</table>\n",
       "<p>5 rows × 21 columns</p>\n",
       "</div>"
      ],
      "text/plain": [
       "   recency  mens  womens  newbie  visit  conversion  spend  history_segment_1  \\\n",
       "0       10     1       0       0      0           0    0.0                  0   \n",
       "1        6     1       1       1      0           0    0.0                  0   \n",
       "2        7     0       1       1      0           0    0.0                  0   \n",
       "3        9     1       0       1      0           0    0.0                  0   \n",
       "4        2     1       0       0      0           0    0.0                  1   \n",
       "\n",
       "   history_segment_2  history_segment_3    ...     history_segment_5  \\\n",
       "0                  1                  0    ...                     0   \n",
       "1                  0                  1    ...                     0   \n",
       "2                  1                  0    ...                     0   \n",
       "3                  0                  0    ...                     1   \n",
       "4                  0                  0    ...                     0   \n",
       "\n",
       "   history_segment_6  history_segment_7  zip_code_Rural  zip_code_Surburban  \\\n",
       "0                  0                  0               0                   1   \n",
       "1                  0                  0               1                   0   \n",
       "2                  0                  0               0                   1   \n",
       "3                  0                  0               1                   0   \n",
       "4                  0                  0               0                   0   \n",
       "\n",
       "   zip_code_Urban  channel_Multichannel  channel_Phone  channel_Web  istarget  \n",
       "0               0                     0              1            0         1  \n",
       "1               0                     0              0            1         0  \n",
       "2               0                     0              0            1         1  \n",
       "3               0                     0              0            1         1  \n",
       "4               1                     0              0            1         1  \n",
       "\n",
       "[5 rows x 21 columns]"
      ]
     },
     "execution_count": 12,
     "metadata": {},
     "output_type": "execute_result"
    }
   ],
   "source": [
    "df=df.drop(['history_segment','segment','history'],axis=1)\n",
    "df.head()"
   ]
  },
  {
   "cell_type": "markdown",
   "metadata": {},
   "source": [
    "# Splitting Data"
   ]
  },
  {
   "cell_type": "code",
   "execution_count": 13,
   "metadata": {},
   "outputs": [],
   "source": [
    "features = df.columns.drop(['conversion','spend'])\n",
    "x_calls = features.drop(['istarget'])"
   ]
  },
  {
   "cell_type": "code",
   "execution_count": 14,
   "metadata": {},
   "outputs": [],
   "source": [
    "from sklearn import model_selection\n",
    "train_df,test_df= model_selection.train_test_split(df,test_size=0.33, stratify = df.conversion,random_state=217)"
   ]
  },
  {
   "cell_type": "code",
   "execution_count": 15,
   "metadata": {},
   "outputs": [
    {
     "name": "stdout",
     "output_type": "stream",
     "text": [
      "conversion\n",
      "0    42493\n",
      "1      387\n",
      "dtype: int64\n",
      "conversion\n",
      "0    20929\n",
      "1      191\n",
      "dtype: int64\n"
     ]
    }
   ],
   "source": [
    "print(train_df.groupby('conversion').size())\n",
    "print(test_df.groupby('conversion').size())"
   ]
  },
  {
   "cell_type": "code",
   "execution_count": 16,
   "metadata": {},
   "outputs": [
    {
     "name": "stdout",
     "output_type": "stream",
     "text": [
      "istarget  conversion\n",
      "0         0             14245\n",
      "          1                75\n",
      "1         0             28248\n",
      "          1               312\n",
      "dtype: int64\n",
      "istarget  conversion\n",
      "0         0              6939\n",
      "          1                47\n",
      "1         0             13990\n",
      "          1               144\n",
      "dtype: int64\n"
     ]
    }
   ],
   "source": [
    "print(train_df.groupby(['istarget','conversion']).size())\n",
    "print(test_df.groupby(['istarget','conversion']).size())"
   ]
  },
  {
   "cell_type": "markdown",
   "metadata": {},
   "source": [
    "# Choosing Model"
   ]
  },
  {
   "cell_type": "code",
   "execution_count": 17,
   "metadata": {},
   "outputs": [],
   "source": [
    "from sklearn.metrics import classification_report,confusion_matrix,accuracy_score\n",
    "from sklearn.metrics import roc_auc_score,roc_auc_score,f1_score\n",
    "from sklearn.linear_model import LogisticRegression\n",
    "from sklearn.tree import DecisionTreeClassifier\n",
    "from sklearn.neighbors import KNeighborsClassifier\n",
    "from sklearn.naive_bayes import GaussianNB\n",
    "from sklearn.ensemble import GradientBoostingClassifier,RandomForestClassifier,AdaBoostClassifier,ExtraTreesClassifier\n",
    "from lightgbm import LGBMClassifier\n",
    "from xgboost import XGBClassifier\n",
    "from multiscorer import MultiScorer"
   ]
  },
  {
   "cell_type": "code",
   "execution_count": 18,
   "metadata": {
    "scrolled": true
   },
   "outputs": [
    {
     "name": "stdout",
     "output_type": "stream",
     "text": [
      "LR by Accuracy: 0.903283(0.007852), by ROC_AUC: 0.951387(0.003951), and by F1 Score: 0.944431(0.004463)\n",
      "CART by Accuracy: 0.987431(0.002455), by ROC_AUC: 0.528282(0.041861), and by F1 Score: 0.988707(0.001281)\n",
      "NB by Accuracy: 0.903283(0.007852), by ROC_AUC: 0.951387(0.003951), and by F1 Score: 0.944431(0.004463)\n",
      "GBM by Accuracy: 0.977725(0.005081), by ROC_AUC: 0.550049(0.042077), and by F1 Score: 0.983794(0.002596)\n",
      "GBC by Accuracy: 0.922208(0.009280), by ROC_AUC: 0.867640(0.059211), and by F1 Score: 0.954821(0.005141)\n",
      "XGBC by Accuracy: 0.915993(0.008444), by ROC_AUC: 0.905377(0.070121), and by F1 Score: 0.951443(0.004716)\n",
      "ADB by Accuracy: 0.903283(0.007852), by ROC_AUC: 0.951387(0.003951), and by F1 Score: 0.944431(0.004463)\n",
      "RFC by Accuracy: 0.990992(0.001445), by ROC_AUC: 0.523857(0.042195), and by F1 Score: 0.990537(0.000949)\n",
      "ETC by Accuracy: 0.989316(0.001923), by ROC_AUC: 0.536337(0.042347), and by F1 Score: 0.989772(0.001146)\n"
     ]
    }
   ],
   "source": [
    "# Spot all methods want to be used\n",
    "models = []\n",
    "models.append(('LR', LogisticRegression()))\n",
    "models.append(('CART', DecisionTreeClassifier()))\n",
    "models.append(('NB', GaussianNB()))\n",
    "models.append(('GBM', LGBMClassifier()))\n",
    "models.append(('GBC', GradientBoostingClassifier()))\n",
    "models.append(('XGBC', XGBClassifier()))\n",
    "models.append(('ADB', AdaBoostClassifier()))\n",
    "models.append(('RFC', RandomForestClassifier()))\n",
    "models.append(('ETC', ExtraTreesClassifier()))\n",
    "\n",
    "for name, model in models:\n",
    "    # Spot all scorers want to be used\n",
    "    scorer = MultiScorer({'Accuracy' : (accuracy_score,  {}),\\\n",
    "            'ROC_AUC'  : (roc_auc_score,{'average' : 'weighted'}),\\\n",
    "            'F-measure': (f1_score,{'average' : 'weighted'})})\n",
    "        \n",
    "    # Cross Validation Model\n",
    "    kfold = model_selection.StratifiedKFold(n_splits=10, random_state=7)\n",
    "    model_selection.cross_val_score(model,train_df[train_df.istarget==0][x_calls], train_df[train_df.istarget==0]['conversion'],\n",
    "                                cv=kfold, scoring=scorer,fit_params={'sample_weight':[75 if y==0 else 14275 for y in\n",
    "                                train_df[train_df.istarget==0]['conversion']]})\n",
    "    scoring = scorer.get_results()\n",
    "    cv_results1 = scoring['Accuracy']\n",
    "    cv_results2 = scoring['ROC_AUC']\n",
    "    cv_results3 = scoring['F-measure']\n",
    "    msg = \"%s by Accuracy: %f(%f), by ROC_AUC: %f(%f), and by F1 Score: %f(%f)\" % (name, np.average(cv_results1),\n",
    "            np.std(cv_results1), np.average(cv_results2), np.std(cv_results2), np.average(cv_results3),np.std(cv_results3))\n",
    "    print(msg)"
   ]
  },
  {
   "cell_type": "code",
   "execution_count": 19,
   "metadata": {
    "scrolled": true
   },
   "outputs": [
    {
     "name": "stdout",
     "output_type": "stream",
     "text": [
      "LR by Accuracy: 0.843767(0.007955), by ROC_AUC: 0.921021(0.004016), and by F1 Score: 0.905584(0.004683)\n",
      "CART by Accuracy: 0.958088(0.003803), by ROC_AUC: 0.598585(0.052886), and by F1 Score: 0.969008(0.002213)\n",
      "NB by Accuracy: 0.843767(0.007955), by ROC_AUC: 0.921021(0.004016), and by F1 Score: 0.905584(0.004683)\n",
      "GBM by Accuracy: 0.907457(0.005106), by ROC_AUC: 0.731250(0.068860), and by F1 Score: 0.942034(0.002861)\n",
      "GBC by Accuracy: 0.847408(0.007978), by ROC_AUC: 0.908555(0.015937), and by F1 Score: 0.907748(0.004672)\n",
      "XGBC by Accuracy: 0.846533(0.008276), by ROC_AUC: 0.919279(0.006263), and by F1 Score: 0.907230(0.004853)\n",
      "ADB by Accuracy: 0.843767(0.007955), by ROC_AUC: 0.921021(0.004016), and by F1 Score: 0.905584(0.004683)\n",
      "RFC by Accuracy: 0.967052(0.003482), by ROC_AUC: 0.579440(0.046840), and by F1 Score: 0.973652(0.002213)\n",
      "ETC by Accuracy: 0.958824(0.003935), by ROC_AUC: 0.594221(0.046746), and by F1 Score: 0.969362(0.002201)\n"
     ]
    }
   ],
   "source": [
    "# Spot all methods want to be used\n",
    "models = []\n",
    "models.append(('LR', LogisticRegression()))\n",
    "models.append(('CART', DecisionTreeClassifier()))\n",
    "models.append(('NB', GaussianNB()))\n",
    "models.append(('GBM', LGBMClassifier()))\n",
    "models.append(('GBC', GradientBoostingClassifier()))\n",
    "models.append(('XGBC', XGBClassifier()))\n",
    "models.append(('ADB', AdaBoostClassifier()))\n",
    "models.append(('RFC', RandomForestClassifier()))\n",
    "models.append(('ETC', ExtraTreesClassifier()))\n",
    "\n",
    "for name, model in models:\n",
    "    # Spot all scorers want to be used\n",
    "    scorer = MultiScorer({'Accuracy' : (accuracy_score,  {}),\\\n",
    "            'ROC_AUC'  : (roc_auc_score,{'average' : 'weighted'}),\\\n",
    "            'F-measure': (f1_score,{'average' : 'weighted'})})\n",
    "        \n",
    "    # Cross Validation Model\n",
    "    kfold = model_selection.StratifiedKFold(n_splits=10, random_state=7)\n",
    "    model_selection.cross_val_score(model,train_df[train_df.istarget==1][x_calls], train_df[train_df.istarget==1]['conversion'],\n",
    "                                cv=kfold, scoring=scorer,fit_params={'sample_weight':[312 if y==0 else 28248 for y in\n",
    "                                train_df[train_df.istarget==1]['conversion']]})\n",
    "    scoring = scorer.get_results()\n",
    "    cv_results1 = scoring['Accuracy']\n",
    "    cv_results2 = scoring['ROC_AUC']\n",
    "    cv_results3 = scoring['F-measure']\n",
    "    msg = \"%s by Accuracy: %f(%f), by ROC_AUC: %f(%f), and by F1 Score: %f(%f)\" % (name, np.average(cv_results1),\n",
    "            np.std(cv_results1), np.average(cv_results2), np.std(cv_results2), np.average(cv_results3),np.std(cv_results3))\n",
    "    print(msg)"
   ]
  },
  {
   "cell_type": "markdown",
   "metadata": {},
   "source": [
    "In this moment, we don't tune the parameters of all models. Therefore, we decided four best model according to the AUC score."
   ]
  },
  {
   "cell_type": "markdown",
   "metadata": {},
   "source": [
    "# Evaluating Model"
   ]
  },
  {
   "cell_type": "code",
   "execution_count": 20,
   "metadata": {},
   "outputs": [],
   "source": [
    "def evaluate_model(name,model,X_train, X_validation, Y_train, Y_validation, weights):\n",
    "    print(name)\n",
    "    model.fit(X_train, Y_train,sample_weight=weights)\n",
    "    predictions = model.predict(X_validation)\n",
    "    print(\"Accuracy Score: %f\" % accuracy_score(Y_validation, predictions))\n",
    "    auc=roc_auc_score(Y_validation, predictions)\n",
    "    print(\"AUC: %f\" % auc)\n",
    "    print(confusion_matrix(Y_validation, predictions))\n",
    "    print(classification_report(Y_validation, predictions))\n",
    "    return(model)"
   ]
  },
  {
   "cell_type": "code",
   "execution_count": 21,
   "metadata": {},
   "outputs": [
    {
     "name": "stdout",
     "output_type": "stream",
     "text": [
      "LR\n",
      "Accuracy Score: 0.904810\n",
      "AUC: 0.920384\n",
      "[[6277  662]\n",
      " [   3   44]]\n",
      "              precision    recall  f1-score   support\n",
      "\n",
      "           0       1.00      0.90      0.95      6939\n",
      "           1       0.06      0.94      0.12        47\n",
      "\n",
      "   micro avg       0.90      0.90      0.90      6986\n",
      "   macro avg       0.53      0.92      0.53      6986\n",
      "weighted avg       0.99      0.90      0.94      6986\n",
      "\n"
     ]
    }
   ],
   "source": [
    "model_control_1=evaluate_model('LR',LogisticRegression(),train_df[train_df.istarget==0][x_calls],\\\n",
    "                             test_df[test_df.istarget==0][x_calls],train_df[train_df.istarget==0]['conversion'],\\\n",
    "                             test_df[test_df.istarget==0]['conversion'],[75 if y==0 else 14275 for y in\n",
    "                                train_df[train_df.istarget==0]['conversion']])"
   ]
  },
  {
   "cell_type": "code",
   "execution_count": 22,
   "metadata": {},
   "outputs": [
    {
     "name": "stdout",
     "output_type": "stream",
     "text": [
      "GNB\n",
      "Accuracy Score: 0.904810\n",
      "AUC: 0.920384\n",
      "[[6277  662]\n",
      " [   3   44]]\n",
      "              precision    recall  f1-score   support\n",
      "\n",
      "           0       1.00      0.90      0.95      6939\n",
      "           1       0.06      0.94      0.12        47\n",
      "\n",
      "   micro avg       0.90      0.90      0.90      6986\n",
      "   macro avg       0.53      0.92      0.53      6986\n",
      "weighted avg       0.99      0.90      0.94      6986\n",
      "\n"
     ]
    }
   ],
   "source": [
    "model_control_2=evaluate_model('GNB',GaussianNB(),train_df[train_df.istarget==0][x_calls],\\\n",
    "                             test_df[test_df.istarget==0][x_calls],train_df[train_df.istarget==0]['conversion'],\\\n",
    "                             test_df[test_df.istarget==0]['conversion'],[75 if y==0 else 14275 for y in\n",
    "                                train_df[train_df.istarget==0]['conversion']])"
   ]
  },
  {
   "cell_type": "code",
   "execution_count": 23,
   "metadata": {},
   "outputs": [
    {
     "name": "stdout",
     "output_type": "stream",
     "text": [
      "XGBC\n",
      "Accuracy Score: 0.916261\n",
      "AUC: 0.873317\n",
      "[[6362  577]\n",
      " [   8   39]]\n",
      "              precision    recall  f1-score   support\n",
      "\n",
      "           0       1.00      0.92      0.96      6939\n",
      "           1       0.06      0.83      0.12        47\n",
      "\n",
      "   micro avg       0.92      0.92      0.92      6986\n",
      "   macro avg       0.53      0.87      0.54      6986\n",
      "weighted avg       0.99      0.92      0.95      6986\n",
      "\n"
     ]
    }
   ],
   "source": [
    "model_control_3=evaluate_model('XGBC',XGBClassifier(),train_df[train_df.istarget==0][x_calls],\\\n",
    "                             test_df[test_df.istarget==0][x_calls],train_df[train_df.istarget==0]['conversion'],\\\n",
    "                             test_df[test_df.istarget==0]['conversion'],[75 if y==0 else 14275 for y in\n",
    "                                train_df[train_df.istarget==0]['conversion']])"
   ]
  },
  {
   "cell_type": "code",
   "execution_count": 24,
   "metadata": {
    "scrolled": false
   },
   "outputs": [
    {
     "name": "stdout",
     "output_type": "stream",
     "text": [
      "ADA\n",
      "Accuracy Score: 0.904810\n",
      "AUC: 0.920384\n",
      "[[6277  662]\n",
      " [   3   44]]\n",
      "              precision    recall  f1-score   support\n",
      "\n",
      "           0       1.00      0.90      0.95      6939\n",
      "           1       0.06      0.94      0.12        47\n",
      "\n",
      "   micro avg       0.90      0.90      0.90      6986\n",
      "   macro avg       0.53      0.92      0.53      6986\n",
      "weighted avg       0.99      0.90      0.94      6986\n",
      "\n"
     ]
    }
   ],
   "source": [
    "model_control_4=evaluate_model('ADA',AdaBoostClassifier(),train_df[train_df.istarget==0][x_calls],\\\n",
    "                             test_df[test_df.istarget==0][x_calls],train_df[train_df.istarget==0]['conversion'],\\\n",
    "                             test_df[test_df.istarget==0]['conversion'],[75 if y==0 else 14275 for y in\n",
    "                                train_df[train_df.istarget==0]['conversion']])"
   ]
  },
  {
   "cell_type": "code",
   "execution_count": 25,
   "metadata": {},
   "outputs": [
    {
     "name": "stdout",
     "output_type": "stream",
     "text": [
      "LR\n",
      "Accuracy Score: 0.843356\n",
      "AUC: 0.920872\n",
      "[[11776  2214]\n",
      " [    0   144]]\n",
      "              precision    recall  f1-score   support\n",
      "\n",
      "           0       1.00      0.84      0.91     13990\n",
      "           1       0.06      1.00      0.12       144\n",
      "\n",
      "   micro avg       0.84      0.84      0.84     14134\n",
      "   macro avg       0.53      0.92      0.51     14134\n",
      "weighted avg       0.99      0.84      0.91     14134\n",
      "\n"
     ]
    }
   ],
   "source": [
    "model_target_1=evaluate_model('LR',LogisticRegression(),train_df[train_df.istarget==1][x_calls],\\\n",
    "                             test_df[test_df.istarget==1][x_calls],train_df[train_df.istarget==1]['conversion'],\\\n",
    "                             test_df[test_df.istarget==1]['conversion'],[312 if y==0 else 28248 for y in\n",
    "                                train_df[train_df.istarget==1]['conversion']])"
   ]
  },
  {
   "cell_type": "code",
   "execution_count": 26,
   "metadata": {},
   "outputs": [
    {
     "name": "stdout",
     "output_type": "stream",
     "text": [
      "GNB\n",
      "Accuracy Score: 0.843356\n",
      "AUC: 0.920872\n",
      "[[11776  2214]\n",
      " [    0   144]]\n",
      "              precision    recall  f1-score   support\n",
      "\n",
      "           0       1.00      0.84      0.91     13990\n",
      "           1       0.06      1.00      0.12       144\n",
      "\n",
      "   micro avg       0.84      0.84      0.84     14134\n",
      "   macro avg       0.53      0.92      0.51     14134\n",
      "weighted avg       0.99      0.84      0.91     14134\n",
      "\n"
     ]
    }
   ],
   "source": [
    "model_target_2=evaluate_model('GNB',GaussianNB(),train_df[train_df.istarget==1][x_calls],\\\n",
    "                             test_df[test_df.istarget==1][x_calls],train_df[train_df.istarget==1]['conversion'],\\\n",
    "                             test_df[test_df.istarget==1]['conversion'],[312 if y==0 else 28248 for y in\n",
    "                                train_df[train_df.istarget==1]['conversion']])"
   ]
  },
  {
   "cell_type": "code",
   "execution_count": 27,
   "metadata": {},
   "outputs": [
    {
     "name": "stdout",
     "output_type": "stream",
     "text": [
      "XGBC\n",
      "Accuracy Score: 0.845267\n",
      "AUC: 0.904655\n",
      "[[11808  2182]\n",
      " [    5   139]]\n",
      "              precision    recall  f1-score   support\n",
      "\n",
      "           0       1.00      0.84      0.92     13990\n",
      "           1       0.06      0.97      0.11       144\n",
      "\n",
      "   micro avg       0.85      0.85      0.85     14134\n",
      "   macro avg       0.53      0.90      0.51     14134\n",
      "weighted avg       0.99      0.85      0.91     14134\n",
      "\n"
     ]
    }
   ],
   "source": [
    "model_target_3=evaluate_model('XGBC',XGBClassifier(),train_df[train_df.istarget==1][x_calls],\\\n",
    "                             test_df[test_df.istarget==1][x_calls],train_df[train_df.istarget==1]['conversion'],\\\n",
    "                             test_df[test_df.istarget==1]['conversion'],[312 if y==0 else 28248 for y in\n",
    "                                train_df[train_df.istarget==1]['conversion']])"
   ]
  },
  {
   "cell_type": "code",
   "execution_count": 28,
   "metadata": {
    "scrolled": true
   },
   "outputs": [
    {
     "name": "stdout",
     "output_type": "stream",
     "text": [
      "ADA\n",
      "Accuracy Score: 0.843356\n",
      "AUC: 0.920872\n",
      "[[11776  2214]\n",
      " [    0   144]]\n",
      "              precision    recall  f1-score   support\n",
      "\n",
      "           0       1.00      0.84      0.91     13990\n",
      "           1       0.06      1.00      0.12       144\n",
      "\n",
      "   micro avg       0.84      0.84      0.84     14134\n",
      "   macro avg       0.53      0.92      0.51     14134\n",
      "weighted avg       0.99      0.84      0.91     14134\n",
      "\n"
     ]
    }
   ],
   "source": [
    "model_target_4=evaluate_model('ADA',AdaBoostClassifier(),train_df[train_df.istarget==1][x_calls],\\\n",
    "                             test_df[test_df.istarget==1][x_calls],train_df[train_df.istarget==1]['conversion'],\\\n",
    "                             test_df[test_df.istarget==1]['conversion'],[312 if y==0 else 28248 for y in\n",
    "                                train_df[train_df.istarget==1]['conversion']])"
   ]
  },
  {
   "cell_type": "markdown",
   "metadata": {},
   "source": [
    "## Calculating the uplift"
   ]
  },
  {
   "cell_type": "code",
   "execution_count": 29,
   "metadata": {},
   "outputs": [],
   "source": [
    "test_df[\"uplift_1\"] = model_target_1.predict_proba(test_df[x_calls])[:,1] - model_control_1.predict_proba(test_df[x_calls])[:,1]"
   ]
  },
  {
   "cell_type": "code",
   "execution_count": 30,
   "metadata": {},
   "outputs": [],
   "source": [
    "test_df[\"uplift_2\"] = model_target_2.predict_proba(test_df[x_calls])[:,1] - model_control_2.predict_proba(test_df[x_calls])[:,1]"
   ]
  },
  {
   "cell_type": "code",
   "execution_count": 31,
   "metadata": {},
   "outputs": [],
   "source": [
    "test_df[\"uplift_3\"] = model_target_3.predict_proba(test_df[x_calls])[:,1] - model_control_3.predict_proba(test_df[x_calls])[:,1]"
   ]
  },
  {
   "cell_type": "code",
   "execution_count": 32,
   "metadata": {},
   "outputs": [],
   "source": [
    "test_df[\"uplift_4\"] = model_target_4.predict_proba(test_df[x_calls])[:,1] - model_control_4.predict_proba(test_df[x_calls])[:,1]"
   ]
  },
  {
   "cell_type": "code",
   "execution_count": 33,
   "metadata": {},
   "outputs": [
    {
     "data": {
      "text/html": [
       "<div>\n",
       "<style scoped>\n",
       "    .dataframe tbody tr th:only-of-type {\n",
       "        vertical-align: middle;\n",
       "    }\n",
       "\n",
       "    .dataframe tbody tr th {\n",
       "        vertical-align: top;\n",
       "    }\n",
       "\n",
       "    .dataframe thead th {\n",
       "        text-align: right;\n",
       "    }\n",
       "</style>\n",
       "<table border=\"1\" class=\"dataframe\">\n",
       "  <thead>\n",
       "    <tr style=\"text-align: right;\">\n",
       "      <th></th>\n",
       "      <th>recency</th>\n",
       "      <th>mens</th>\n",
       "      <th>womens</th>\n",
       "      <th>newbie</th>\n",
       "      <th>visit</th>\n",
       "      <th>conversion</th>\n",
       "      <th>spend</th>\n",
       "      <th>history_segment_1</th>\n",
       "      <th>history_segment_2</th>\n",
       "      <th>history_segment_3</th>\n",
       "      <th>...</th>\n",
       "      <th>zip_code_Surburban</th>\n",
       "      <th>zip_code_Urban</th>\n",
       "      <th>channel_Multichannel</th>\n",
       "      <th>channel_Phone</th>\n",
       "      <th>channel_Web</th>\n",
       "      <th>istarget</th>\n",
       "      <th>uplift_1</th>\n",
       "      <th>uplift_2</th>\n",
       "      <th>uplift_3</th>\n",
       "      <th>uplift_4</th>\n",
       "    </tr>\n",
       "  </thead>\n",
       "  <tbody>\n",
       "    <tr>\n",
       "      <th>27799</th>\n",
       "      <td>2</td>\n",
       "      <td>1</td>\n",
       "      <td>0</td>\n",
       "      <td>0</td>\n",
       "      <td>0</td>\n",
       "      <td>0</td>\n",
       "      <td>0.0</td>\n",
       "      <td>0</td>\n",
       "      <td>1</td>\n",
       "      <td>0</td>\n",
       "      <td>...</td>\n",
       "      <td>0</td>\n",
       "      <td>1</td>\n",
       "      <td>0</td>\n",
       "      <td>1</td>\n",
       "      <td>0</td>\n",
       "      <td>0</td>\n",
       "      <td>-0.000019</td>\n",
       "      <td>0.0</td>\n",
       "      <td>-0.000050</td>\n",
       "      <td>0.000614</td>\n",
       "    </tr>\n",
       "    <tr>\n",
       "      <th>25408</th>\n",
       "      <td>6</td>\n",
       "      <td>1</td>\n",
       "      <td>0</td>\n",
       "      <td>1</td>\n",
       "      <td>0</td>\n",
       "      <td>0</td>\n",
       "      <td>0.0</td>\n",
       "      <td>0</td>\n",
       "      <td>0</td>\n",
       "      <td>0</td>\n",
       "      <td>...</td>\n",
       "      <td>0</td>\n",
       "      <td>1</td>\n",
       "      <td>0</td>\n",
       "      <td>1</td>\n",
       "      <td>0</td>\n",
       "      <td>1</td>\n",
       "      <td>-0.000020</td>\n",
       "      <td>0.0</td>\n",
       "      <td>-0.000025</td>\n",
       "      <td>0.000083</td>\n",
       "    </tr>\n",
       "    <tr>\n",
       "      <th>816</th>\n",
       "      <td>1</td>\n",
       "      <td>0</td>\n",
       "      <td>1</td>\n",
       "      <td>1</td>\n",
       "      <td>0</td>\n",
       "      <td>0</td>\n",
       "      <td>0.0</td>\n",
       "      <td>0</td>\n",
       "      <td>1</td>\n",
       "      <td>0</td>\n",
       "      <td>...</td>\n",
       "      <td>0</td>\n",
       "      <td>0</td>\n",
       "      <td>0</td>\n",
       "      <td>1</td>\n",
       "      <td>0</td>\n",
       "      <td>1</td>\n",
       "      <td>-0.000013</td>\n",
       "      <td>0.0</td>\n",
       "      <td>0.000013</td>\n",
       "      <td>0.000712</td>\n",
       "    </tr>\n",
       "    <tr>\n",
       "      <th>54564</th>\n",
       "      <td>2</td>\n",
       "      <td>1</td>\n",
       "      <td>0</td>\n",
       "      <td>1</td>\n",
       "      <td>0</td>\n",
       "      <td>0</td>\n",
       "      <td>0.0</td>\n",
       "      <td>1</td>\n",
       "      <td>0</td>\n",
       "      <td>0</td>\n",
       "      <td>...</td>\n",
       "      <td>1</td>\n",
       "      <td>0</td>\n",
       "      <td>0</td>\n",
       "      <td>0</td>\n",
       "      <td>1</td>\n",
       "      <td>1</td>\n",
       "      <td>-0.000018</td>\n",
       "      <td>0.0</td>\n",
       "      <td>0.000062</td>\n",
       "      <td>0.000862</td>\n",
       "    </tr>\n",
       "    <tr>\n",
       "      <th>16499</th>\n",
       "      <td>5</td>\n",
       "      <td>1</td>\n",
       "      <td>0</td>\n",
       "      <td>1</td>\n",
       "      <td>0</td>\n",
       "      <td>0</td>\n",
       "      <td>0.0</td>\n",
       "      <td>0</td>\n",
       "      <td>1</td>\n",
       "      <td>0</td>\n",
       "      <td>...</td>\n",
       "      <td>1</td>\n",
       "      <td>0</td>\n",
       "      <td>0</td>\n",
       "      <td>0</td>\n",
       "      <td>1</td>\n",
       "      <td>0</td>\n",
       "      <td>-0.000007</td>\n",
       "      <td>0.0</td>\n",
       "      <td>-0.000032</td>\n",
       "      <td>0.001889</td>\n",
       "    </tr>\n",
       "  </tbody>\n",
       "</table>\n",
       "<p>5 rows × 25 columns</p>\n",
       "</div>"
      ],
      "text/plain": [
       "       recency  mens  womens  newbie  visit  conversion  spend  \\\n",
       "27799        2     1       0       0      0           0    0.0   \n",
       "25408        6     1       0       1      0           0    0.0   \n",
       "816          1     0       1       1      0           0    0.0   \n",
       "54564        2     1       0       1      0           0    0.0   \n",
       "16499        5     1       0       1      0           0    0.0   \n",
       "\n",
       "       history_segment_1  history_segment_2  history_segment_3    ...     \\\n",
       "27799                  0                  1                  0    ...      \n",
       "25408                  0                  0                  0    ...      \n",
       "816                    0                  1                  0    ...      \n",
       "54564                  1                  0                  0    ...      \n",
       "16499                  0                  1                  0    ...      \n",
       "\n",
       "       zip_code_Surburban  zip_code_Urban  channel_Multichannel  \\\n",
       "27799                   0               1                     0   \n",
       "25408                   0               1                     0   \n",
       "816                     0               0                     0   \n",
       "54564                   1               0                     0   \n",
       "16499                   1               0                     0   \n",
       "\n",
       "       channel_Phone  channel_Web  istarget  uplift_1  uplift_2  uplift_3  \\\n",
       "27799              1            0         0 -0.000019       0.0 -0.000050   \n",
       "25408              1            0         1 -0.000020       0.0 -0.000025   \n",
       "816                1            0         1 -0.000013       0.0  0.000013   \n",
       "54564              0            1         1 -0.000018       0.0  0.000062   \n",
       "16499              0            1         0 -0.000007       0.0 -0.000032   \n",
       "\n",
       "       uplift_4  \n",
       "27799  0.000614  \n",
       "25408  0.000083  \n",
       "816    0.000712  \n",
       "54564  0.000862  \n",
       "16499  0.001889  \n",
       "\n",
       "[5 rows x 25 columns]"
      ]
     },
     "execution_count": 33,
     "metadata": {},
     "output_type": "execute_result"
    }
   ],
   "source": [
    "test_df.head()"
   ]
  },
  {
   "cell_type": "markdown",
   "metadata": {},
   "source": [
    "# Class Modification approach"
   ]
  },
  {
   "cell_type": "code",
   "execution_count": 34,
   "metadata": {},
   "outputs": [],
   "source": [
    "train_df['modified_conversion'] = train_df['conversion'] * train_df['istarget'] \\\n",
    "                                 + (1-train_df['conversion'])*(1-train_df['istarget'])"
   ]
  },
  {
   "cell_type": "code",
   "execution_count": 35,
   "metadata": {},
   "outputs": [],
   "source": [
    "test_df['modified_conversion'] = test_df['conversion'] * test_df['istarget'] \\\n",
    "                                 + (1-test_df['conversion'])*(1-test_df['istarget'])"
   ]
  },
  {
   "cell_type": "code",
   "execution_count": 36,
   "metadata": {},
   "outputs": [
    {
     "data": {
      "text/html": [
       "<div>\n",
       "<style scoped>\n",
       "    .dataframe tbody tr th:only-of-type {\n",
       "        vertical-align: middle;\n",
       "    }\n",
       "\n",
       "    .dataframe tbody tr th {\n",
       "        vertical-align: top;\n",
       "    }\n",
       "\n",
       "    .dataframe thead th {\n",
       "        text-align: right;\n",
       "    }\n",
       "</style>\n",
       "<table border=\"1\" class=\"dataframe\">\n",
       "  <thead>\n",
       "    <tr style=\"text-align: right;\">\n",
       "      <th></th>\n",
       "      <th>recency</th>\n",
       "      <th>mens</th>\n",
       "      <th>womens</th>\n",
       "      <th>newbie</th>\n",
       "      <th>visit</th>\n",
       "      <th>conversion</th>\n",
       "      <th>spend</th>\n",
       "      <th>history_segment_1</th>\n",
       "      <th>history_segment_2</th>\n",
       "      <th>history_segment_3</th>\n",
       "      <th>...</th>\n",
       "      <th>history_segment_6</th>\n",
       "      <th>history_segment_7</th>\n",
       "      <th>zip_code_Rural</th>\n",
       "      <th>zip_code_Surburban</th>\n",
       "      <th>zip_code_Urban</th>\n",
       "      <th>channel_Multichannel</th>\n",
       "      <th>channel_Phone</th>\n",
       "      <th>channel_Web</th>\n",
       "      <th>istarget</th>\n",
       "      <th>modified_conversion</th>\n",
       "    </tr>\n",
       "  </thead>\n",
       "  <tbody>\n",
       "    <tr>\n",
       "      <th>14537</th>\n",
       "      <td>3</td>\n",
       "      <td>0</td>\n",
       "      <td>1</td>\n",
       "      <td>1</td>\n",
       "      <td>0</td>\n",
       "      <td>0</td>\n",
       "      <td>0.0</td>\n",
       "      <td>0</td>\n",
       "      <td>1</td>\n",
       "      <td>0</td>\n",
       "      <td>...</td>\n",
       "      <td>0</td>\n",
       "      <td>0</td>\n",
       "      <td>0</td>\n",
       "      <td>1</td>\n",
       "      <td>0</td>\n",
       "      <td>0</td>\n",
       "      <td>1</td>\n",
       "      <td>0</td>\n",
       "      <td>1</td>\n",
       "      <td>0</td>\n",
       "    </tr>\n",
       "    <tr>\n",
       "      <th>34998</th>\n",
       "      <td>3</td>\n",
       "      <td>0</td>\n",
       "      <td>1</td>\n",
       "      <td>1</td>\n",
       "      <td>0</td>\n",
       "      <td>0</td>\n",
       "      <td>0.0</td>\n",
       "      <td>1</td>\n",
       "      <td>0</td>\n",
       "      <td>0</td>\n",
       "      <td>...</td>\n",
       "      <td>0</td>\n",
       "      <td>0</td>\n",
       "      <td>0</td>\n",
       "      <td>0</td>\n",
       "      <td>1</td>\n",
       "      <td>0</td>\n",
       "      <td>0</td>\n",
       "      <td>1</td>\n",
       "      <td>1</td>\n",
       "      <td>0</td>\n",
       "    </tr>\n",
       "    <tr>\n",
       "      <th>3178</th>\n",
       "      <td>3</td>\n",
       "      <td>1</td>\n",
       "      <td>1</td>\n",
       "      <td>0</td>\n",
       "      <td>1</td>\n",
       "      <td>0</td>\n",
       "      <td>0.0</td>\n",
       "      <td>0</td>\n",
       "      <td>0</td>\n",
       "      <td>1</td>\n",
       "      <td>...</td>\n",
       "      <td>0</td>\n",
       "      <td>0</td>\n",
       "      <td>0</td>\n",
       "      <td>1</td>\n",
       "      <td>0</td>\n",
       "      <td>0</td>\n",
       "      <td>0</td>\n",
       "      <td>1</td>\n",
       "      <td>1</td>\n",
       "      <td>0</td>\n",
       "    </tr>\n",
       "    <tr>\n",
       "      <th>6877</th>\n",
       "      <td>1</td>\n",
       "      <td>1</td>\n",
       "      <td>1</td>\n",
       "      <td>1</td>\n",
       "      <td>0</td>\n",
       "      <td>0</td>\n",
       "      <td>0.0</td>\n",
       "      <td>0</td>\n",
       "      <td>0</td>\n",
       "      <td>0</td>\n",
       "      <td>...</td>\n",
       "      <td>0</td>\n",
       "      <td>0</td>\n",
       "      <td>0</td>\n",
       "      <td>1</td>\n",
       "      <td>0</td>\n",
       "      <td>0</td>\n",
       "      <td>0</td>\n",
       "      <td>1</td>\n",
       "      <td>0</td>\n",
       "      <td>1</td>\n",
       "    </tr>\n",
       "    <tr>\n",
       "      <th>26948</th>\n",
       "      <td>10</td>\n",
       "      <td>0</td>\n",
       "      <td>1</td>\n",
       "      <td>0</td>\n",
       "      <td>0</td>\n",
       "      <td>0</td>\n",
       "      <td>0.0</td>\n",
       "      <td>0</td>\n",
       "      <td>0</td>\n",
       "      <td>1</td>\n",
       "      <td>...</td>\n",
       "      <td>0</td>\n",
       "      <td>0</td>\n",
       "      <td>0</td>\n",
       "      <td>1</td>\n",
       "      <td>0</td>\n",
       "      <td>0</td>\n",
       "      <td>1</td>\n",
       "      <td>0</td>\n",
       "      <td>0</td>\n",
       "      <td>1</td>\n",
       "    </tr>\n",
       "  </tbody>\n",
       "</table>\n",
       "<p>5 rows × 22 columns</p>\n",
       "</div>"
      ],
      "text/plain": [
       "       recency  mens  womens  newbie  visit  conversion  spend  \\\n",
       "14537        3     0       1       1      0           0    0.0   \n",
       "34998        3     0       1       1      0           0    0.0   \n",
       "3178         3     1       1       0      1           0    0.0   \n",
       "6877         1     1       1       1      0           0    0.0   \n",
       "26948       10     0       1       0      0           0    0.0   \n",
       "\n",
       "       history_segment_1  history_segment_2  history_segment_3  \\\n",
       "14537                  0                  1                  0   \n",
       "34998                  1                  0                  0   \n",
       "3178                   0                  0                  1   \n",
       "6877                   0                  0                  0   \n",
       "26948                  0                  0                  1   \n",
       "\n",
       "              ...           history_segment_6  history_segment_7  \\\n",
       "14537         ...                           0                  0   \n",
       "34998         ...                           0                  0   \n",
       "3178          ...                           0                  0   \n",
       "6877          ...                           0                  0   \n",
       "26948         ...                           0                  0   \n",
       "\n",
       "       zip_code_Rural  zip_code_Surburban  zip_code_Urban  \\\n",
       "14537               0                   1               0   \n",
       "34998               0                   0               1   \n",
       "3178                0                   1               0   \n",
       "6877                0                   1               0   \n",
       "26948               0                   1               0   \n",
       "\n",
       "       channel_Multichannel  channel_Phone  channel_Web  istarget  \\\n",
       "14537                     0              1            0         1   \n",
       "34998                     0              0            1         1   \n",
       "3178                      0              0            1         1   \n",
       "6877                      0              0            1         0   \n",
       "26948                     0              1            0         0   \n",
       "\n",
       "       modified_conversion  \n",
       "14537                    0  \n",
       "34998                    0  \n",
       "3178                     0  \n",
       "6877                     1  \n",
       "26948                    1  \n",
       "\n",
       "[5 rows x 22 columns]"
      ]
     },
     "execution_count": 36,
     "metadata": {},
     "output_type": "execute_result"
    }
   ],
   "source": [
    "train_df.head()"
   ]
  },
  {
   "cell_type": "code",
   "execution_count": 37,
   "metadata": {},
   "outputs": [
    {
     "data": {
      "text/plain": [
       "modified_conversion\n",
       "0    28323\n",
       "1    14557\n",
       "dtype: int64"
      ]
     },
     "execution_count": 37,
     "metadata": {},
     "output_type": "execute_result"
    }
   ],
   "source": [
    "train_df.groupby(['modified_conversion']).size()"
   ]
  },
  {
   "cell_type": "code",
   "execution_count": 38,
   "metadata": {
    "scrolled": true
   },
   "outputs": [
    {
     "name": "stdout",
     "output_type": "stream",
     "text": [
      "LR by Accuracy: 0.447832(0.011262), by ROC_AUC: 0.516776(0.005402), and by F1 Score: 0.437158(0.017954)\n",
      "CART by Accuracy: 0.511334(0.010417), by ROC_AUC: 0.507937(0.009548), and by F1 Score: 0.524195(0.010094)\n",
      "NB by Accuracy: 0.420851(0.013885), by ROC_AUC: 0.517518(0.006691), and by F1 Score: 0.383578(0.025393)\n",
      "GBM by Accuracy: 0.478358(0.008178), by ROC_AUC: 0.511522(0.005170), and by F1 Score: 0.486417(0.009741)\n",
      "GBC by Accuracy: 0.471106(0.009843), by ROC_AUC: 0.514445(0.003866), and by F1 Score: 0.475335(0.013038)\n",
      "XGBC by Accuracy: 0.470546(0.009635), by ROC_AUC: 0.514388(0.005474), and by F1 Score: 0.474641(0.012369)\n",
      "ADB by Accuracy: 0.453849(0.009411), by ROC_AUC: 0.514486(0.004795), and by F1 Score: 0.448945(0.014248)\n",
      "RFC by Accuracy: 0.518983(0.007187), by ROC_AUC: 0.508819(0.007272), and by F1 Score: 0.531244(0.006928)\n",
      "ETC by Accuracy: 0.512710(0.010154), by ROC_AUC: 0.508861(0.009302), and by F1 Score: 0.525519(0.009831)\n"
     ]
    }
   ],
   "source": [
    "# Spot all methods want to be used\n",
    "models = []\n",
    "models.append(('LR', LogisticRegression()))\n",
    "models.append(('CART', DecisionTreeClassifier()))\n",
    "models.append(('NB', GaussianNB()))\n",
    "models.append(('GBM', LGBMClassifier()))\n",
    "models.append(('GBC', GradientBoostingClassifier()))\n",
    "models.append(('XGBC', XGBClassifier()))\n",
    "models.append(('ADB', AdaBoostClassifier()))\n",
    "models.append(('RFC', RandomForestClassifier()))\n",
    "models.append(('ETC', ExtraTreesClassifier()))\n",
    "\n",
    "for name, model in models:\n",
    "    # Spot all scorers want to be used\n",
    "    scorer = MultiScorer({'Accuracy' : (accuracy_score,  {}),\\\n",
    "            'ROC_AUC'  : (roc_auc_score,{'average' : 'weighted'}),\\\n",
    "            'F-measure': (f1_score,{'average' : 'weighted'})})\n",
    "        \n",
    "    # Cross Validation Model\n",
    "    kfold = model_selection.StratifiedKFold(n_splits=10, random_state=7)\n",
    "    model_selection.cross_val_score(model,train_df[x_calls], train_df.modified_conversion,\n",
    "                                cv=kfold, scoring=scorer,fit_params={'sample_weight':[14557 if y==0 else 28323 for y in\n",
    "                                train_df.modified_conversion]})\n",
    "    scoring = scorer.get_results()\n",
    "    cv_results1 = scoring['Accuracy']\n",
    "    cv_results2 = scoring['ROC_AUC']\n",
    "    cv_results3 = scoring['F-measure']\n",
    "    msg = \"%s by Accuracy: %f(%f), by ROC_AUC: %f(%f), and by F1 Score: %f(%f)\" % (name, np.average(cv_results1),\n",
    "            np.std(cv_results1), np.average(cv_results2), np.std(cv_results2), np.average(cv_results3),np.std(cv_results3))\n",
    "    print(msg)"
   ]
  },
  {
   "cell_type": "markdown",
   "metadata": {},
   "source": [
    "Without tuning parameters, we can see that the result is not good for using class modification. So, in this moment we don't use class modification for uplift modelling."
   ]
  },
  {
   "cell_type": "markdown",
   "metadata": {},
   "source": [
    "# Evaluating Uplift"
   ]
  },
  {
   "cell_type": "markdown",
   "metadata": {},
   "source": [
    "## uplift distribution "
   ]
  },
  {
   "cell_type": "code",
   "execution_count": 39,
   "metadata": {},
   "outputs": [
    {
     "data": {
      "text/plain": [
       "<matplotlib.axes._subplots.AxesSubplot at 0xf477175668>"
      ]
     },
     "execution_count": 39,
     "metadata": {},
     "output_type": "execute_result"
    },
    {
     "data": {
      "image/png": "[encoded data removed]",
      "text/plain": [
       "<Figure size 432x288 with 1 Axes>"
      ]
     },
     "metadata": {},
     "output_type": "display_data"
    }
   ],
   "source": [
    "plt.title(\"Predicted uplift distribution\")\n",
    "test_df[\"uplift_1\"].hist()"
   ]
  },
  {
   "cell_type": "code",
   "execution_count": 40,
   "metadata": {},
   "outputs": [
    {
     "data": {
      "text/plain": [
       "<matplotlib.axes._subplots.AxesSubplot at 0xf474a2be48>"
      ]
     },
     "execution_count": 40,
     "metadata": {},
     "output_type": "execute_result"
    },
    {
     "data": {
      "image/png": "[encoded data removed]",
      "text/plain": [
       "<Figure size 432x288 with 1 Axes>"
      ]
     },
     "metadata": {},
     "output_type": "display_data"
    }
   ],
   "source": [
    "plt.title(\"Predicted uplift distribution\")\n",
    "test_df[\"uplift_2\"].hist()"
   ]
  },
  {
   "cell_type": "code",
   "execution_count": 41,
   "metadata": {},
   "outputs": [
    {
     "data": {
      "text/plain": [
       "<matplotlib.axes._subplots.AxesSubplot at 0xf4749c54e0>"
      ]
     },
     "execution_count": 41,
     "metadata": {},
     "output_type": "execute_result"
    },
    {
     "data": {
      "image/png": "[encoded data removed]",
      "text/plain": [
       "<Figure size 432x288 with 1 Axes>"
      ]
     },
     "metadata": {},
     "output_type": "display_data"
    }
   ],
   "source": [
    "plt.title(\"Predicted uplift distribution\")\n",
    "test_df[\"uplift_3\"].hist()"
   ]
  },
  {
   "cell_type": "code",
   "execution_count": 42,
   "metadata": {},
   "outputs": [
    {
     "data": {
      "text/plain": [
       "<matplotlib.axes._subplots.AxesSubplot at 0xf474ae6198>"
      ]
     },
     "execution_count": 42,
     "metadata": {},
     "output_type": "execute_result"
    },
    {
     "data": {
      "image/png": "[encoded data removed]",
      "text/plain": [
       "<Figure size 432x288 with 1 Axes>"
      ]
     },
     "metadata": {},
     "output_type": "display_data"
    }
   ],
   "source": [
    "plt.title(\"Predicted uplift distribution\")\n",
    "test_df[\"uplift_4\"].hist()"
   ]
  },
  {
   "cell_type": "code",
   "execution_count": 43,
   "metadata": {},
   "outputs": [],
   "source": [
    "test_df['perfect'] = test_df['conversion'] * test_df['istarget'] -  test_df['conversion'] * (1-test_df['istarget'])"
   ]
  },
  {
   "cell_type": "markdown",
   "metadata": {},
   "source": [
    "## Evaluating uplift using Library evaluating_uplift"
   ]
  },
  {
   "cell_type": "code",
   "execution_count": 44,
   "metadata": {},
   "outputs": [],
   "source": [
    "from evaluating_uplift import Uplift"
   ]
  },
  {
   "cell_type": "code",
   "execution_count": 45,
   "metadata": {},
   "outputs": [],
   "source": [
    "uplift_1 = Uplift(test_df,\"istarget\",\"conversion\", \"uplift_1\")\n",
    "uplift_2 = Uplift(test_df,\"istarget\",\"conversion\", \"uplift_2\")\n",
    "uplift_3 = Uplift(test_df,\"istarget\",\"conversion\", \"uplift_3\")\n",
    "uplift_4 = Uplift(test_df,\"istarget\",\"conversion\", \"uplift_4\")\n",
    "perfect = Uplift(test_df,\"istarget\",\"conversion\", \"perfect\")"
   ]
  },
  {
   "cell_type": "markdown",
   "metadata": {},
   "source": [
    "### Costumer uplift"
   ]
  },
  {
   "cell_type": "markdown",
   "metadata": {},
   "source": [
    "In this part, we separate costumers to be ten class according to the uplift. The bar below, show us the percentage of costumers who conversion because of the campaign."
   ]
  },
  {
   "cell_type": "code",
   "execution_count": 46,
   "metadata": {},
   "outputs": [
    {
     "data": {
      "image/png": "[encoded data removed]",
      "text/plain": [
       "<Figure size 432x288 with 1 Axes>"
      ]
     },
     "metadata": {},
     "output_type": "display_data"
    }
   ],
   "source": [
    "hist_twomod = uplift_1.get_hist()\n",
    "ax = seaborn.barplot(hist_twomod[\"percentile\"],hist_twomod['uplift'])"
   ]
  },
  {
   "cell_type": "code",
   "execution_count": 47,
   "metadata": {},
   "outputs": [
    {
     "data": {
      "image/png": "[encoded data removed]",
      "text/plain": [
       "<Figure size 432x288 with 1 Axes>"
      ]
     },
     "metadata": {},
     "output_type": "display_data"
    }
   ],
   "source": [
    "hist_twomod = uplift_2.get_hist()\n",
    "ax = seaborn.barplot(hist_twomod[\"percentile\"],hist_twomod['uplift'])"
   ]
  },
  {
   "cell_type": "code",
   "execution_count": 48,
   "metadata": {},
   "outputs": [
    {
     "data": {
      "image/png": "[encoded data removed]",
      "text/plain": [
       "<Figure size 432x288 with 1 Axes>"
      ]
     },
     "metadata": {},
     "output_type": "display_data"
    }
   ],
   "source": [
    "hist_twomod = uplift_3.get_hist()\n",
    "ax = seaborn.barplot(hist_twomod[\"percentile\"],hist_twomod['uplift'])"
   ]
  },
  {
   "cell_type": "code",
   "execution_count": 49,
   "metadata": {},
   "outputs": [
    {
     "data": {
      "image/png": "[encoded data removed]",
      "text/plain": [
       "<Figure size 432x288 with 1 Axes>"
      ]
     },
     "metadata": {},
     "output_type": "display_data"
    }
   ],
   "source": [
    "hist_twomod = uplift_4.get_hist()\n",
    "ax = seaborn.barplot(hist_twomod[\"percentile\"],hist_twomod['uplift'])"
   ]
  },
  {
   "cell_type": "code",
   "execution_count": 50,
   "metadata": {},
   "outputs": [
    {
     "data": {
      "image/png": "[encoded data removed]",
      "text/plain": [
       "<Figure size 432x288 with 1 Axes>"
      ]
     },
     "metadata": {},
     "output_type": "display_data"
    }
   ],
   "source": [
    "hist_twomod = perfect.get_hist()\n",
    "ax = seaborn.barplot(hist_twomod[\"percentile\"],hist_twomod['uplift'])"
   ]
  },
  {
   "cell_type": "markdown",
   "metadata": {},
   "source": [
    "### Uplift Prediction versus Uplift Actual "
   ]
  },
  {
   "cell_type": "code",
   "execution_count": 51,
   "metadata": {},
   "outputs": [
    {
     "name": "stdout",
     "output_type": "stream",
     "text": [
      "estimate of average error in predicting is 0.012\n"
     ]
    },
    {
     "name": "stderr",
     "output_type": "stream",
     "text": [
      "C:\\Users\\da_team\\AppData\\Roaming\\Python\\Python36\\site-packages\\seaborn\\categorical.py:3666: UserWarning: The `factorplot` function has been renamed to `catplot`. The original name will be removed in a future release. Please update your code. Note that the default `kind` in `factorplot` (`'point'`) has changed `'strip'` in `catplot`.\n",
      "  warnings.warn(msg)\n"
     ]
    },
    {
     "data": {
      "text/plain": [
       "<seaborn.axisgrid.FacetGrid at 0xf474b56978>"
      ]
     },
     "execution_count": 51,
     "metadata": {},
     "output_type": "execute_result"
    },
    {
     "data": {
      "image/png": "[encoded data removed]",
      "text/plain": [
       "<Figure size 446.375x360 with 1 Axes>"
      ]
     },
     "metadata": {},
     "output_type": "display_data"
    }
   ],
   "source": [
    "hist_twomod,eps = uplift_1.act_pred()\n",
    "print('estimate of average error in predicting is {}'.format(round(eps,3)))\n",
    "seaborn.factorplot(x='percentile', y='uplift', hue='uplift_kind', data=hist_twomod, kind='bar')"
   ]
  },
  {
   "cell_type": "code",
   "execution_count": 52,
   "metadata": {
    "scrolled": false
   },
   "outputs": [
    {
     "name": "stdout",
     "output_type": "stream",
     "text": [
      "estimate of average error in predicting is 0.007\n"
     ]
    },
    {
     "name": "stderr",
     "output_type": "stream",
     "text": [
      "C:\\Users\\da_team\\AppData\\Roaming\\Python\\Python36\\site-packages\\seaborn\\categorical.py:3666: UserWarning: The `factorplot` function has been renamed to `catplot`. The original name will be removed in a future release. Please update your code. Note that the default `kind` in `factorplot` (`'point'`) has changed `'strip'` in `catplot`.\n",
      "  warnings.warn(msg)\n"
     ]
    },
    {
     "data": {
      "text/plain": [
       "<seaborn.axisgrid.FacetGrid at 0xf478d15978>"
      ]
     },
     "execution_count": 52,
     "metadata": {},
     "output_type": "execute_result"
    },
    {
     "data": {
      "image/png": "[encoded data removed]",
      "text/plain": [
       "<Figure size 446.375x360 with 1 Axes>"
      ]
     },
     "metadata": {},
     "output_type": "display_data"
    }
   ],
   "source": [
    "hist_twomod,eps = uplift_2.act_pred()\n",
    "print('estimate of average error in predicting is {}'.format(round(eps,3)))\n",
    "seaborn.factorplot(x='percentile', y='uplift', hue='uplift_kind', data=hist_twomod, kind='bar')"
   ]
  },
  {
   "cell_type": "code",
   "execution_count": 53,
   "metadata": {},
   "outputs": [
    {
     "name": "stdout",
     "output_type": "stream",
     "text": [
      "estimate of average error in predicting is 0.025\n"
     ]
    },
    {
     "name": "stderr",
     "output_type": "stream",
     "text": [
      "C:\\Users\\da_team\\AppData\\Roaming\\Python\\Python36\\site-packages\\seaborn\\categorical.py:3666: UserWarning: The `factorplot` function has been renamed to `catplot`. The original name will be removed in a future release. Please update your code. Note that the default `kind` in `factorplot` (`'point'`) has changed `'strip'` in `catplot`.\n",
      "  warnings.warn(msg)\n"
     ]
    },
    {
     "data": {
      "text/plain": [
       "<seaborn.axisgrid.FacetGrid at 0xf478c802b0>"
      ]
     },
     "execution_count": 53,
     "metadata": {},
     "output_type": "execute_result"
    },
    {
     "data": {
      "image/png": "[encoded data removed]",
      "text/plain": [
       "<Figure size 446.375x360 with 1 Axes>"
      ]
     },
     "metadata": {},
     "output_type": "display_data"
    }
   ],
   "source": [
    "hist_twomod,eps = uplift_3.act_pred()\n",
    "print('estimate of average error in predicting is {}'.format(round(eps,3)))\n",
    "seaborn.factorplot(x='percentile', y='uplift', hue='uplift_kind', data=hist_twomod, kind='bar')"
   ]
  },
  {
   "cell_type": "code",
   "execution_count": 54,
   "metadata": {},
   "outputs": [
    {
     "name": "stderr",
     "output_type": "stream",
     "text": [
      "C:\\Users\\da_team\\AppData\\Roaming\\Python\\Python36\\site-packages\\seaborn\\categorical.py:3666: UserWarning: The `factorplot` function has been renamed to `catplot`. The original name will be removed in a future release. Please update your code. Note that the default `kind` in `factorplot` (`'point'`) has changed `'strip'` in `catplot`.\n",
      "  warnings.warn(msg)\n"
     ]
    },
    {
     "name": "stdout",
     "output_type": "stream",
     "text": [
      "estimate of average error in predicting is 0.008\n"
     ]
    },
    {
     "data": {
      "text/plain": [
       "<seaborn.axisgrid.FacetGrid at 0xf477464208>"
      ]
     },
     "execution_count": 54,
     "metadata": {},
     "output_type": "execute_result"
    },
    {
     "data": {
      "image/png": "[encoded data removed]",
      "text/plain": [
       "<Figure size 446.375x360 with 1 Axes>"
      ]
     },
     "metadata": {},
     "output_type": "display_data"
    }
   ],
   "source": [
    "hist_twomod,eps = uplift_4.act_pred()\n",
    "print('estimate of average error in predicting is {}'.format(round(eps,3)))\n",
    "seaborn.factorplot(x='percentile', y='uplift', hue='uplift_kind', data=hist_twomod, kind='bar')"
   ]
  },
  {
   "cell_type": "markdown",
   "metadata": {},
   "source": [
    "### The Cummulative of Uplift"
   ]
  },
  {
   "cell_type": "code",
   "execution_count": 55,
   "metadata": {},
   "outputs": [
    {
     "data": {
      "image/png": "[encoded data removed]",
      "text/plain": [
       "<Figure size 432x288 with 1 Axes>"
      ]
     },
     "metadata": {},
     "output_type": "display_data"
    }
   ],
   "source": [
    "hist_twomod = uplift_1.get_hist_cum()\n",
    "ax = seaborn.barplot(hist_twomod[\"percentile\"],hist_twomod['uplift'])"
   ]
  },
  {
   "cell_type": "code",
   "execution_count": 56,
   "metadata": {},
   "outputs": [
    {
     "data": {
      "image/png": "[encoded data removed]",
      "text/plain": [
       "<Figure size 432x288 with 1 Axes>"
      ]
     },
     "metadata": {},
     "output_type": "display_data"
    }
   ],
   "source": [
    "hist_twomod = uplift_2.get_hist_cum()\n",
    "ax = seaborn.barplot(hist_twomod[\"percentile\"],hist_twomod['uplift'])"
   ]
  },
  {
   "cell_type": "code",
   "execution_count": 57,
   "metadata": {},
   "outputs": [
    {
     "data": {
      "image/png": "[encoded data removed]",
      "text/plain": [
       "<Figure size 432x288 with 1 Axes>"
      ]
     },
     "metadata": {},
     "output_type": "display_data"
    }
   ],
   "source": [
    "hist_twomod = uplift_3.get_hist_cum()\n",
    "ax = seaborn.barplot(hist_twomod[\"percentile\"],hist_twomod['uplift'])"
   ]
  },
  {
   "cell_type": "code",
   "execution_count": 58,
   "metadata": {},
   "outputs": [
    {
     "data": {
      "image/png": "[encoded data removed]",
      "text/plain": [
       "<Figure size 432x288 with 1 Axes>"
      ]
     },
     "metadata": {},
     "output_type": "display_data"
    }
   ],
   "source": [
    "hist_twomod = uplift_4.get_hist_cum()\n",
    "ax = seaborn.barplot(hist_twomod[\"percentile\"],hist_twomod['uplift'])"
   ]
  },
  {
   "cell_type": "markdown",
   "metadata": {},
   "source": [
    "## The Assesment of Uplift Model"
   ]
  },
  {
   "cell_type": "markdown",
   "metadata": {},
   "source": [
    "# Using Number of Target vs Number of Conversion"
   ]
  },
  {
   "cell_type": "code",
   "execution_count": 59,
   "metadata": {},
   "outputs": [],
   "source": [
    "perfect_gains = perfect.gains()\n",
    "gains_1 = uplift_1.gains()\n",
    "gains_2 = uplift_2.gains()\n",
    "gains_3 = uplift_3.gains()\n",
    "gains_4 = uplift_4.gains()"
   ]
  },
  {
   "cell_type": "code",
   "execution_count": 60,
   "metadata": {},
   "outputs": [
    {
     "data": {
      "text/plain": [
       "<matplotlib.legend.Legend at 0xf47b7336a0>"
      ]
     },
     "execution_count": 60,
     "metadata": {},
     "output_type": "execute_result"
    },
    {
     "data": {
      "image/png": "[encoded data removed]",
      "text/plain": [
       "<Figure size 432x288 with 1 Axes>"
      ]
     },
     "metadata": {},
     "output_type": "display_data"
    }
   ],
   "source": [
    "plot(perfect_gains.index,perfect_gains.RT, color = 'r', label = 'best_model')\n",
    "plot(gains_1.index,gains_1.RT, color =  'g', label = 'Uplift_1')\n",
    "plot(gains_2.index,gains_2.RT, color =  'b', label = 'Uplift_2')\n",
    "plot(gains_3.index,gains_3.RT, color =  'm', label = 'Uplift_3')\n",
    "plot(gains_4.index,gains_4.RT, color =  'y', label = 'Uplift_4')\n",
    "plot(gains_1.index,gains_1.Random,color = 'k', label = 'random')\n",
    "plt.legend(bbox_to_anchor=(1.4, 0.5))"
   ]
  },
  {
   "cell_type": "markdown",
   "metadata": {},
   "source": [
    "## Using Qini Curve"
   ]
  },
  {
   "cell_type": "code",
   "execution_count": 61,
   "metadata": {},
   "outputs": [],
   "source": [
    "perfect_qini = perfect.qini_curve()\n",
    "qini_curve_1 = uplift_1.qini_curve()\n",
    "qini_curve_2 = uplift_2.qini_curve()\n",
    "qini_curve_3 = uplift_3.qini_curve()\n",
    "qini_curve_4 = uplift_4.qini_curve()"
   ]
  },
  {
   "cell_type": "code",
   "execution_count": 62,
   "metadata": {},
   "outputs": [
    {
     "data": {
      "text/plain": [
       "<matplotlib.legend.Legend at 0xf47b7bf400>"
      ]
     },
     "execution_count": 62,
     "metadata": {},
     "output_type": "execute_result"
    },
    {
     "data": {
      "image/png": "[encoded data removed]",
      "text/plain": [
       "<Figure size 432x288 with 1 Axes>"
      ]
     },
     "metadata": {},
     "output_type": "display_data"
    }
   ],
   "source": [
    "plot(perfect_qini.index,perfect_qini.RT, color = 'r', label = 'best_model')\n",
    "plot(qini_curve_1.index,qini_curve_1.RT, color =  'g', label = 'Uplift_1')\n",
    "plot(qini_curve_2.index,qini_curve_2.RT, color =  'b', label = 'Uplift_2')\n",
    "plot(qini_curve_3.index,qini_curve_3.RT, color =  'm', label = 'Uplift_3')\n",
    "plot(qini_curve_4.index,qini_curve_4.RT, color =  'y', label = 'Uplift_4')\n",
    "plot(qini_curve_1.index,qini_curve_1.Random,color = 'k', label = 'random')\n",
    "plt.legend(bbox_to_anchor=(1.4, 0.5))"
   ]
  },
  {
   "cell_type": "markdown",
   "metadata": {},
   "source": [
    "By the both method above, we still cannot decide the best model. However, we know that the models still need high improvement."
   ]
  },
  {
   "cell_type": "markdown",
   "metadata": {},
   "source": [
    "## Using Qini Coefficient"
   ]
  },
  {
   "cell_type": "code",
   "execution_count": 63,
   "metadata": {
    "scrolled": true
   },
   "outputs": [
    {
     "name": "stdout",
     "output_type": "stream",
     "text": [
      "-0.07540995976387027\n",
      "-0.16683869103025586\n",
      "0.021689865762337866\n",
      "-0.034232718402213425\n"
     ]
    }
   ],
   "source": [
    "print(uplift_1.qini_coef())\n",
    "print(uplift_2.qini_coef())\n",
    "print(uplift_3.qini_coef())\n",
    "print(uplift_4.qini_coef())"
   ]
  },
  {
   "cell_type": "markdown",
   "metadata": {},
   "source": [
    "By Qini Coefficient we get model_3 is the best. Qini Coefficient is the common used method to asses the uplift model."
   ]
  },
  {
   "cell_type": "markdown",
   "metadata": {},
   "source": [
    "## Using Q_Athey"
   ]
  },
  {
   "cell_type": "code",
   "execution_count": 64,
   "metadata": {},
   "outputs": [
    {
     "name": "stdout",
     "output_type": "stream",
     "text": [
      "0.041860736771644314\n",
      "0.04152592981664929\n",
      "0.0471083785113039\n",
      "0.03671888513663611\n"
     ]
    }
   ],
   "source": [
    "print(uplift_1.Q_Athey())\n",
    "print(uplift_2.Q_Athey())\n",
    "print(uplift_3.Q_Athey())\n",
    "print(uplift_4.Q_Athey())"
   ]
  },
  {
   "cell_type": "markdown",
   "metadata": {},
   "source": [
    "This method developed by Athey. The closer to the expected number (0.5), the better model.\n",
    "\n",
    "Athey S, Imbens GW. 2015. Machine Learning Methods for Estimating Heterogeneous Causal Effects."
   ]
  },
  {
   "cell_type": "markdown",
   "metadata": {},
   "source": [
    "## Using Moment Uplift "
   ]
  },
  {
   "cell_type": "markdown",
   "metadata": {},
   "source": [
    "There are several kind method in using uplift moment. The explanation can be seen in this three papers.\n",
    "\n",
    "Radcliffe NJ. 2012. Moment of Uplift. Technical Note. August 7 2012 Version 2.\n",
    "\n",
    "Radcliffe NJ. Using Control Groups to Target on Predicted Lift: Building and Assessing Uplift Models.\n",
    "\n",
    "Naranjo OM. 2012. Testing a New Metric for Uplift Models. The University of Edinburgh School of Mathematics."
   ]
  },
  {
   "cell_type": "code",
   "execution_count": 65,
   "metadata": {},
   "outputs": [
    {
     "name": "stdout",
     "output_type": "stream",
     "text": [
      "8.93032838743224e-05\n",
      "1.8673424349992622e-06\n",
      "0.0002354230567685366\n",
      "-1.2744128872848666e-06\n"
     ]
    }
   ],
   "source": [
    "print(uplift_1.uplift_moment())\n",
    "print(uplift_2.uplift_moment())\n",
    "print(uplift_3.uplift_moment())\n",
    "print(uplift_4.uplift_moment())"
   ]
  },
  {
   "cell_type": "markdown",
   "metadata": {},
   "source": [
    "The best is model_3."
   ]
  },
  {
   "cell_type": "code",
   "execution_count": 66,
   "metadata": {},
   "outputs": [
    {
     "name": "stdout",
     "output_type": "stream",
     "text": [
      "-0.0019737502687307\n",
      "-0.0003923330071742452\n",
      "-0.006256756934717425\n",
      "-0.00024780180818110214\n"
     ]
    }
   ],
   "source": [
    "print(uplift_1.uplift_moment(orde='quadratic'))\n",
    "print(uplift_2.uplift_moment(orde='quadratic'))\n",
    "print(uplift_3.uplift_moment(orde='quadratic'))\n",
    "print(uplift_4.uplift_moment(orde='quadratic'))"
   ]
  },
  {
   "cell_type": "markdown",
   "metadata": {},
   "source": [
    "The best is model_4."
   ]
  },
  {
   "cell_type": "code",
   "execution_count": 67,
   "metadata": {},
   "outputs": [
    {
     "name": "stdout",
     "output_type": "stream",
     "text": [
      "0.01916404492758854\n",
      "0.00012877774583340925\n",
      "0.00597729448195532\n",
      "-0.0028137372164365767\n"
     ]
    }
   ],
   "source": [
    "print(uplift_1.uplift_moment(orde='linear'))\n",
    "print(uplift_2.uplift_moment(orde='linear'))\n",
    "print(uplift_3.uplift_moment(orde='linear'))\n",
    "print(uplift_4.uplift_moment(orde='linear'))"
   ]
  },
  {
   "cell_type": "markdown",
   "metadata": {},
   "source": [
    "The best is model_1."
   ]
  },
  {
   "cell_type": "code",
   "execution_count": 68,
   "metadata": {},
   "outputs": [
    {
     "name": "stdout",
     "output_type": "stream",
     "text": [
      "-0.00011365704086381216\n",
      "-0.00032604805483506954\n",
      "-0.003908672043145737\n",
      "-0.0002078029633853976\n"
     ]
    }
   ],
   "source": [
    "print(uplift_1.uplift_moment(orde='quadratic',kind='mean'))\n",
    "print(uplift_2.uplift_moment(orde='quadratic',kind='mean'))\n",
    "print(uplift_3.uplift_moment(orde='quadratic',kind='mean'))\n",
    "print(uplift_4.uplift_moment(orde='quadratic',kind='mean'))"
   ]
  },
  {
   "cell_type": "markdown",
   "metadata": {},
   "source": [
    "The best is model_1."
   ]
  },
  {
   "cell_type": "code",
   "execution_count": 69,
   "metadata": {},
   "outputs": [
    {
     "name": "stdout",
     "output_type": "stream",
     "text": [
      "-0.004543313373318327\n",
      "-0.0013914378053172375\n",
      "-0.01023798033216516\n",
      "-0.005159086119781563\n"
     ]
    }
   ],
   "source": [
    "print(uplift_1.uplift_moment(orde='linear',kind='mean'))\n",
    "print(uplift_2.uplift_moment(orde='linear',kind='mean'))\n",
    "print(uplift_3.uplift_moment(orde='linear',kind='mean'))\n",
    "print(uplift_4.uplift_moment(orde='linear',kind='mean'))"
   ]
  },
  {
   "cell_type": "markdown",
   "metadata": {},
   "source": [
    "The best is model_2."
   ]
  },
  {
   "cell_type": "code",
   "execution_count": 70,
   "metadata": {},
   "outputs": [
    {
     "name": "stdout",
     "output_type": "stream",
     "text": [
      "-0.001971243452432464\n",
      "-0.0003923330071742452\n",
      "-0.006256756934717425\n",
      "-0.00021427366141886964\n"
     ]
    }
   ],
   "source": [
    "print(uplift_1.uplift_moment(orde='quadratic',kind='minimum'))\n",
    "print(uplift_2.uplift_moment(orde='quadratic',kind='minimum'))\n",
    "print(uplift_3.uplift_moment(orde='quadratic',kind='minimum'))\n",
    "print(uplift_4.uplift_moment(orde='quadratic',kind='minimum'))"
   ]
  },
  {
   "cell_type": "markdown",
   "metadata": {},
   "source": [
    "The best is model_4."
   ]
  },
  {
   "cell_type": "code",
   "execution_count": 71,
   "metadata": {},
   "outputs": [
    {
     "name": "stdout",
     "output_type": "stream",
     "text": [
      "-0.017803511329795206\n",
      "-0.01182456795482801\n",
      "-0.04819065012515781\n",
      "-0.005936522498000431\n"
     ]
    }
   ],
   "source": [
    "print(uplift_1.uplift_moment(orde='linear',kind='minimum'))\n",
    "print(uplift_2.uplift_moment(orde='linear',kind='minimum'))\n",
    "print(uplift_3.uplift_moment(orde='linear',kind='minimum'))\n",
    "print(uplift_4.uplift_moment(orde='linear',kind='minimum'))"
   ]
  },
  {
   "cell_type": "markdown",
   "metadata": {},
   "source": [
    "The best is model_4."
   ]
  },
  {
   "cell_type": "markdown",
   "metadata": {},
   "source": [
    "## Using Composite measures"
   ]
  },
  {
   "cell_type": "code",
   "execution_count": 72,
   "metadata": {},
   "outputs": [
    {
     "name": "stdout",
     "output_type": "stream",
     "text": [
      "(0.008050444154679627, 0.0031815627277065393, 0.0034273142069015804, -0.07452423384872103, -0.0013242043851317395)\n",
      "(0.003681987485237201, -0.0017227647866706172, -0.0017227647866706172, -0.165749015281315, -0.0011979636181070402)\n",
      "(0.0107595866342968, 0.007538694150973046, 0.007575343925697421, 0.021155294405555247, 0.00023821395027699767)\n",
      "(0.007620792997194573, 0.0012470388540863847, 0.0013029871291175537, -0.033888852048663765, -0.0002163590984182232)\n"
     ]
    }
   ],
   "source": [
    "print(uplift_1.composite_measures())\n",
    "print(uplift_2.composite_measures())\n",
    "print(uplift_3.composite_measures())\n",
    "print(uplift_4.composite_measures())"
   ]
  },
  {
   "cell_type": "markdown",
   "metadata": {},
   "source": [
    "This method developed by Naronjo. There are 5 metrics to asses the model: M1, M2, M3, M4, and M5.\n",
    "By all meassures, the best model is Model_3.\n",
    "\n",
    "Naranjo OM. 2012. Testing a New Metric for Uplift Models. The University of Edinburgh School of Mathematics."
   ]
  },
  {
   "cell_type": "markdown",
   "metadata": {},
   "source": [
    "## Using Common metrics to asses model"
   ]
  },
  {
   "cell_type": "code",
   "execution_count": 73,
   "metadata": {},
   "outputs": [
    {
     "name": "stdout",
     "output_type": "stream",
     "text": [
      "(0.39520337841945463, 0.06786373000608782, 8.0, 0.899124857137603, 0.008146124266342845, 0.0629976421524836, 0.008146124266342845, 0.01188507240406111)\n",
      "(-0.4678899082568808, 0.06107954487993526, 1.0, 0.9936200776218012, 0.0037061937977981366, 0.06107954487993526, 0.0010111223458038427, 0.006574251720840888)\n",
      "(0.7006490497453708, 0.20548982876411032, 4.0, 0.9498874874722186, 0.011031469724895899, 0.20449566189773116, 0.011031469724895899, 0.025268915976051985)\n",
      "(0.16363636363636364, 0.04962174408038545, 0.0, 1.0061207863871926, 0.007678112470979931, 0.047491062262203634, 0.002485177690204849, 0.007521457912117473)\n"
     ]
    }
   ],
   "source": [
    "#corr, spread, negatif_effect, slope, Umax, uplift1p, uplift1a, epsilon\n",
    "print(uplift_1.metric())\n",
    "print(uplift_2.metric())\n",
    "print(uplift_3.metric())\n",
    "print(uplift_4.metric())"
   ]
  },
  {
   "cell_type": "markdown",
   "metadata": {},
   "source": [
    "This function provides respectively:\n",
    "    1. Correlation between Uplift prediction and uplift actual\n",
    "    2. Spread: The range between Maximum of uplift and minimum of uplift\n",
    "    3. negatif effect: the absolute number of the sum of the sign of uplift prediction\n",
    "    4. Slope: the slope between uplift predcition and uplift actual\n",
    "    5. Umax: the maximum number of uplift prediction\n",
    "    6. uplift prediction of the first percentile\n",
    "    7. uplift actual of the first percentile\n",
    "    8. Epsilon: the error of uplift"
   ]
  },
  {
   "cell_type": "markdown",
   "metadata": {},
   "source": [
    "## The table of uplift prediction and uplift actual"
   ]
  },
  {
   "cell_type": "code",
   "execution_count": 74,
   "metadata": {},
   "outputs": [
    {
     "name": "stdout",
     "output_type": "stream",
     "text": [
      "   percentile  uplift_pred  uplift_act  uplift_pred_a  uplift_act_a  distance\n",
      "0           0     0.062998    0.008146       0.064027      0.009176  0.054852\n",
      "1           1    -0.000008    0.000000       0.001021      0.001029  0.000008\n",
      "2           2    -0.000011    0.000000       0.001019      0.001029  0.000011\n",
      "3           3    -0.000013    0.000000       0.001016      0.001029  0.000013\n",
      "4           4    -0.000016    0.000000       0.001013      0.001029  0.000016\n",
      "5           5    -0.000018    0.000000       0.001011      0.001029  0.000018\n",
      "6           6    -0.000021    0.000000       0.001008      0.001029  0.000021\n",
      "7           7    -0.000026    0.000000       0.001003      0.001029  0.000026\n",
      "8           8    -0.001548    0.001981      -0.000519      0.003011  0.003530\n",
      "9           9    -0.065221   -0.004866      -0.064192     -0.003837  0.060355\n"
     ]
    }
   ],
   "source": [
    "print(uplift_1.uplift_accent())"
   ]
  },
  {
   "cell_type": "code",
   "execution_count": 75,
   "metadata": {},
   "outputs": [
    {
     "name": "stdout",
     "output_type": "stream",
     "text": [
      "   percentile  uplift_pred  uplift_act  uplift_pred_a  uplift_act_a  distance\n",
      "0           0     0.061080    0.001011       0.055145     -0.004923  0.060068\n",
      "1           1     0.000000    0.000000      -0.005934     -0.005934  0.000000\n",
      "2           2     0.000000    0.000000      -0.005934     -0.005934  0.000000\n",
      "3           3     0.000000    0.000000      -0.005934     -0.005934  0.000000\n",
      "4           4     0.000000    0.000000      -0.005934     -0.005934  0.000000\n",
      "5           5     0.000000    0.000000      -0.005934     -0.005934  0.000000\n",
      "6           6     0.000000    0.000000      -0.005934     -0.005934  0.000000\n",
      "7           7     0.000000    0.000000      -0.005934     -0.005934  0.000000\n",
      "8           8    -0.000003    0.003706      -0.005937     -0.002228  0.003709\n",
      "9           9    -0.000101    0.001864      -0.006036     -0.004070  0.001965\n"
     ]
    }
   ],
   "source": [
    "print(uplift_2.uplift_accent())"
   ]
  },
  {
   "cell_type": "code",
   "execution_count": 76,
   "metadata": {},
   "outputs": [
    {
     "name": "stdout",
     "output_type": "stream",
     "text": [
      "   percentile  uplift_pred  uplift_act  uplift_pred_a  uplift_act_a  distance\n",
      "0           0     0.204496    0.011031       0.188775     -0.004689  0.193464\n",
      "1           1     0.000025    0.000000      -0.015695     -0.015721  0.000025\n",
      "2           2     0.000003    0.000000      -0.015718     -0.015721  0.000003\n",
      "3           3    -0.000016    0.000000      -0.015736     -0.015721  0.000016\n",
      "4           4    -0.000032    0.000000      -0.015753     -0.015721  0.000032\n",
      "5           5    -0.000052    0.000000      -0.015773     -0.015721  0.000052\n",
      "6           6    -0.000073    0.000000      -0.015794     -0.015721  0.000073\n",
      "7           7    -0.000093    0.000000      -0.015814     -0.015721  0.000093\n",
      "8           8    -0.000119    0.000000      -0.015840     -0.015721  0.000119\n",
      "9           9    -0.059805   -0.000994      -0.075526     -0.016715  0.058811\n"
     ]
    }
   ],
   "source": [
    "print(uplift_3.uplift_accent())"
   ]
  },
  {
   "cell_type": "code",
   "execution_count": 77,
   "metadata": {},
   "outputs": [
    {
     "name": "stdout",
     "output_type": "stream",
     "text": [
      "   percentile  uplift_pred  uplift_act  uplift_pred_a  uplift_act_a  distance\n",
      "0           0     0.047491    0.002485       0.043005     -0.002001  0.045006\n",
      "1           1     0.004045    0.004234      -0.000441     -0.000252  0.000189\n",
      "2           2     0.002458    0.002144      -0.002028     -0.002341  0.000314\n",
      "3           3     0.001346    0.005714      -0.003140      0.001228  0.004368\n",
      "4           4     0.000479    0.002318      -0.004007     -0.002168  0.001839\n",
      "5           5    -0.000209   -0.000733      -0.004695     -0.005219  0.000525\n",
      "6           6    -0.000897    0.005678      -0.005383      0.001192  0.006575\n",
      "7           7    -0.001618   -0.002131      -0.006104     -0.006617  0.000513\n",
      "8           8    -0.002459    0.007678      -0.006945      0.003192  0.010137\n",
      "9           9    -0.004125    0.001625      -0.008611     -0.002861  0.005750\n"
     ]
    }
   ],
   "source": [
    "print(uplift_4.uplift_accent())"
   ]
  },
  {
   "cell_type": "markdown",
   "metadata": {},
   "source": [
    "Thank you. Hopefully, it can be usefull for all readers."
   ]
  },
  {
   "cell_type": "code",
   "execution_count": null,
   "metadata": {},
   "outputs": [],
   "source": []
  }
 ],
 "metadata": {
  "kernelspec": {
   "display_name": "Python 3",
   "language": "python",
   "name": "python3"
  },
  "language_info": {
   "codemirror_mode": {
    "name": "ipython",
    "version": 3
   },
   "file_extension": ".py",
   "mimetype": "text/x-python",
   "name": "python",
   "nbconvert_exporter": "python",
   "pygments_lexer": "ipython3",
   "version": "3.6.6"
  }
 },
 "nbformat": 4,
 "nbformat_minor": 2
}
